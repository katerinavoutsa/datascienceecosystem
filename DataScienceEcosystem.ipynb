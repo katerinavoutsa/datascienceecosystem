{
 "cells": [
  {
   "cell_type": "markdown",
   "id": "74d46e91-d17b-436d-b4d5-437ca85a0ad2",
   "metadata": {},
   "source": [
    "# Data Science Tools and Ecosystem"
   ]
  },
  {
   "cell_type": "markdown",
   "id": "97e097c5-5ab5-4b7c-9354-0b25d9757e49",
   "metadata": {},
   "source": [
    "In this notebook, Data Science Tools and Ecosystem are summarized."
   ]
  },
  {
   "cell_type": "markdown",
   "id": "f075e8e3-7308-4ad8-b62b-738580c2675c",
   "metadata": {
    "tags": []
   },
   "source": [
    "**Objectives:**\n",
    "- List popular languages for Data Science\n",
    "- List commonly used libraries for Data Science\n",
    "- List open-source development environments\n",
    "- Evaluating simple arithmetic expressions using Python"
   ]
  },
  {
   "cell_type": "markdown",
   "id": "13643370-d03e-4dd6-931b-6de7fcdb10f9",
   "metadata": {},
   "source": [
    "Some of the popular languages that Data Scientists use are:\n",
    "1. Python\n",
    "2. R\n",
    "3. Julia\n",
    "4. Scala"
   ]
  },
  {
   "cell_type": "markdown",
   "id": "721bbb19-55c4-4824-b83b-6cbb8fe0fae6",
   "metadata": {},
   "source": [
    "Some of the commonly used libraries used by Data Scientists include:\n",
    "1. Pandas\n",
    "2. Matplotlib\n",
    "3. NumPy"
   ]
  },
  {
   "cell_type": "markdown",
   "id": "82d2e37b-79df-4ba3-969a-291954048d2d",
   "metadata": {},
   "source": [
    "|Data Science Tools|\n",
    "|----|\n",
    "|Jupyter|\n",
    "|Apache Zeppelin|\n",
    "|R studio|"
   ]
  },
  {
   "cell_type": "markdown",
   "id": "f1e72151-1eef-4cde-b233-3b7e3341225e",
   "metadata": {},
   "source": [
    "### Below are a few examples of evaluating arithmetic expressions in Python."
   ]
  },
  {
   "cell_type": "code",
   "execution_count": 2,
   "id": "858f3e5a-31aa-45e1-a05d-957d1bdb79f2",
   "metadata": {},
   "outputs": [
    {
     "data": {
      "text/plain": [
       "17"
      ]
     },
     "execution_count": 2,
     "metadata": {},
     "output_type": "execute_result"
    }
   ],
   "source": [
    "#this is a simple arithmetic expression to multiply then add integers\n",
    "(3*4)+5"
   ]
  },
  {
   "cell_type": "code",
   "execution_count": 3,
   "id": "7dff11fd-3dcd-4320-92fc-3bb4d40dda66",
   "metadata": {},
   "outputs": [
    {
     "data": {
      "text/plain": [
       "3.3333333333333335"
      ]
     },
     "execution_count": 3,
     "metadata": {},
     "output_type": "execute_result"
    }
   ],
   "source": [
    "#this will convert 200 minuted to hours by dividing by 60\n",
    "200/60"
   ]
  },
  {
   "cell_type": "markdown",
   "id": "90bedce9-442f-4fb7-b2d9-d8ff0dbb881e",
   "metadata": {},
   "source": [
    "## Author\n",
    "Aikaterini Voutsa"
   ]
  }
 ],
 "metadata": {
  "kernelspec": {
   "display_name": "Python 3 (ipykernel)",
   "language": "python",
   "name": "python3"
  },
  "language_info": {
   "codemirror_mode": {
    "name": "ipython",
    "version": 3
   },
   "file_extension": ".py",
   "mimetype": "text/x-python",
   "name": "python",
   "nbconvert_exporter": "python",
   "pygments_lexer": "ipython3",
   "version": "3.9.12"
  }
 },
 "nbformat": 4,
 "nbformat_minor": 5
}
